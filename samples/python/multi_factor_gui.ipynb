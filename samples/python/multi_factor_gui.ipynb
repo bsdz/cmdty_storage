{
 "cells": [
  {
   "cell_type": "markdown",
   "metadata": {},
   "source": [
    "### Introduction\n",
    "This notebook contains a simple GUI constructing using Jupyter Widgets intended to help with testing, demonstrate the functionality to non-technical users, and act as an example of using the Python API to technical users. It is not intended as a production usage GUI and the Python code behind the GUI is not of production quality and robustness.\n",
    "\n",
    "Each input tab of the GUI contains buttons to save/load inputs to/from CSV files in order to avoid repeatedly typing in the same data each time the GUI is launched. Some example of such persisted data can be found in the directory ./storage_gui_data in the same directory as this notebook.\n",
    "\n",
    "After installing the prerequisites listed below, simply run the single cell and the GUI will appear."
   ]
  },
  {
   "cell_type": "markdown",
   "metadata": {},
   "source": [
    "#### Prerequisites\n",
    "This notebook requires several packages installed:\n",
    "\n",
    "`\n",
    "pip install cmdty-storage\n",
    "pip install curves\n",
    "pip install ipysheet\n",
    "`\n",
    "\n",
    "If this notebook has been downloaded standalone, i.e. without downloading the whole storage repo,\n",
    "it requires the file [storage_gui.py](https://github.com/cmdty/storage/blob/master/samples/python/storage_gui.py) be in the same directory.\n"
   ]
  },
  {
   "cell_type": "code",
   "execution_count": 1,
   "metadata": {
    "scrolled": false
   },
   "outputs": [
    {
     "data": {
      "application/vnd.jupyter.widget-view+json": {
       "model_id": "9a9488205ea74a4eaa06ebcded8611b5",
       "version_major": 2,
       "version_minor": 0
      },
      "text/plain": [
       "Tab(children=(VBox(children=(HBox(children=(Button(description='Load Valuation Data', style=ButtonStyle()), Bu…"
      ]
     },
     "metadata": {},
     "output_type": "display_data"
    },
    {
     "data": {
      "application/vnd.jupyter.widget-view+json": {
       "model_id": "e30857cb63f34dbe98b5b150fa63e396",
       "version_major": 2,
       "version_minor": 0
      },
      "text/plain": [
       "HBox(children=(VBox(children=(Button(description='Calculate', style=ButtonStyle()), FloatProgress(value=0.0, m…"
      ]
     },
     "metadata": {},
     "output_type": "display_data"
    },
    {
     "data": {
      "application/vnd.jupyter.widget-view+json": {
       "model_id": "485c3e8c8d334d74bc27f8cbdeca96a8",
       "version_major": 2,
       "version_minor": 0
      },
      "text/plain": [
       "Tab(children=(HBox(children=(VBox(children=(Text(value='', description='Full Value', disabled=True), Text(valu…"
      ]
     },
     "metadata": {},
     "output_type": "display_data"
    }
   ],
   "source": [
    "%matplotlib inline\n",
    "import storage_gui as sg\n",
    "sg.display_gui()"
   ]
  },
  {
   "cell_type": "code",
   "execution_count": 33,
   "metadata": {},
   "outputs": [
    {
     "name": "stdout",
     "output_type": "stream",
     "text": [
      "2023-04-01    0.00\n",
      "2023-04-02    0.00\n",
      "2023-04-03    0.00\n",
      "2023-04-04    0.00\n",
      "2023-04-05    0.00\n",
      "              ... \n",
      "2024-03-28    0.03\n",
      "2024-03-29    0.03\n",
      "2024-03-30    0.03\n",
      "2024-03-31    0.03\n",
      "2024-04-01    0.00\n",
      "Freq: D, Length: 367, dtype: float64\n",
      "0.02\n"
     ]
    },
    {
     "data": {
      "text/plain": [
       "IntrinsicValuationResults(npv=2.2290107338585408, profile=            inventory  inject_withdraw_volume  cmdty_consumed  inventory_loss  \\\n",
       "2023-04-01       0.01                    0.01             0.0             0.0   \n",
       "2023-04-02       0.02                    0.01             0.0             0.0   \n",
       "2023-04-03       0.03                    0.01             0.0             0.0   \n",
       "2023-04-04       0.04                    0.01             0.0             0.0   \n",
       "2023-04-05       0.05                    0.01             0.0             0.0   \n",
       "...               ...                     ...             ...             ...   \n",
       "2024-03-28       0.04                   -0.02             0.0             0.0   \n",
       "2024-03-29       0.03                   -0.01             0.0             0.0   \n",
       "2024-03-30       0.03                    0.00             0.0             0.0   \n",
       "2024-03-31       0.01                   -0.02             0.0             0.0   \n",
       "2024-04-01       0.01                    0.00             0.0             0.0   \n",
       "\n",
       "            net_volume  period_pv  \n",
       "2023-04-01       -0.01  -0.165840  \n",
       "2023-04-02       -0.01  -0.165840  \n",
       "2023-04-03       -0.01  -0.165840  \n",
       "2023-04-04       -0.01  -0.165840  \n",
       "2023-04-05       -0.01  -0.165840  \n",
       "...                ...        ...  \n",
       "2024-03-28        0.02   0.331969  \n",
       "2024-03-29        0.01   0.165984  \n",
       "2024-03-30       -0.00  -0.000000  \n",
       "2024-03-31        0.02   0.331969  \n",
       "2024-04-01        0.00   0.148992  \n",
       "\n",
       "[367 rows x 6 columns])"
      ]
     },
     "execution_count": 33,
     "metadata": {},
     "output_type": "execute_result"
    }
   ],
   "source": [
    "import pandas as pd\n",
    "from cmdty_storage import CmdtyStorage, intrinsic_value\n",
    "\n",
    "monthly_index = pd.period_range(start='2023-04-01', periods=25, freq='M')\n",
    "monthly_fwd_prices = [16.61, 15.68, 15.42, 15.31, 15.27, 15.13, 15.96, 17.22, 17.32, 17.66, \n",
    "                      17.59, 16.81, 15.36, 14.49, 14.28, 14.25, 14.32, 14.33, 15.30, 16.58, \n",
    "                      16.64, 16.79, 16.64, 15.90, 14.63]\n",
    "fwd_curve = pd.Series(data=monthly_fwd_prices, index=monthly_index).resample('D').fillna('pad')\n",
    "\n",
    "rates = [0.005, 0.006, 0.0072, 0.0087, 0.0101, 0.0115, 0.0126]\n",
    "rates_pillars = pd.PeriodIndex(freq='D', data=['2021-04-25', '2021-06-01', '2021-08-01', '2021-12-01', '2022-04-01', \n",
    "                                             '2022-12-01', '2025-12-01'])\n",
    "\n",
    "ir_curve = pd.Series(data=rates, index=rates_pillars).resample('D').asfreq('D').interpolate(method='linear')\n",
    "\n",
    "def settlement_rule(delivery_date):\n",
    "    return delivery_date.asfreq('M').asfreq('D', 'end') + 20\n",
    "\n",
    "max_inventory = 1.0 # MWh\n",
    "\n",
    "injection_duration = 100.0 # days\n",
    "withdrawal_duration = injection_duration / 2.0 # days\n",
    "\n",
    "max_injection_rate = max_inventory / injection_duration # MWh / day\n",
    "max_withdrawal_rate = max_inventory / withdrawal_duration # MWh / day\n",
    "\n",
    "yearly_period_index = pd.PeriodIndex(freq='D', data = ['2023-04-01', '2023-10-01', '2024-04-01'])\n",
    "\n",
    "min_inventory = pd.Series([0.0, 0.03 * max_inventory, 0.0], yearly_period_index).resample('D').fillna('pad')\n",
    "#max_inventory = pd.Series([max_inventory, max_inventory, max_inventory], yearly_period_index).resample('D').fillna('pad')\n",
    "\n",
    "print(min_inventory)\n",
    "print(max_withdrawal_rate)\n",
    "\n",
    "storage_time_varying = CmdtyStorage(\n",
    "freq='D',\n",
    "storage_start = '2023-04-01',\n",
    "storage_end = '2024-04-01',\n",
    "injection_cost = 0.0,\n",
    "withdrawal_cost = 0.0,\n",
    "min_inventory = pd.Series([0.0, 0.03 * max_inventory, 0.0], yearly_period_index).resample('D').fillna('pad'),\n",
    "max_inventory = pd.Series([max_inventory, max_inventory, max_inventory], yearly_period_index).resample('D').fillna('pad'),\n",
    "max_injection_rate = max_injection_rate,\n",
    "max_withdrawal_rate = max_withdrawal_rate,\n",
    "terminal_storage_npv = lambda spot_price, inventory: 0.97 * spot_price * inventory\n",
    ")\n",
    "\n",
    "iv_results = intrinsic_value(\n",
    "cmdty_storage = storage_time_varying,\n",
    "val_date = storage_time_varying.start,\n",
    "inventory = 0.0 * max_inventory,\n",
    "forward_curve = fwd_curve,\n",
    "interest_rates = ir_curve,\n",
    "settlement_rule = settlement_rule)\n",
    "\n",
    "iv_results\n",
    "\n",
    "#pd.Series([0.0, 0.03 * max_inventory, 0.0], yearly_period_index).resample('D').fillna('pad'),"
   ]
  }
 ],
 "metadata": {
  "kernelspec": {
   "display_name": "Python 3 (ipykernel)",
   "language": "python",
   "name": "python3"
  },
  "language_info": {
   "codemirror_mode": {
    "name": "ipython",
    "version": 3
   },
   "file_extension": ".py",
   "mimetype": "text/x-python",
   "name": "python",
   "nbconvert_exporter": "python",
   "pygments_lexer": "ipython3",
   "version": "3.9.12"
  }
 },
 "nbformat": 4,
 "nbformat_minor": 2
}
