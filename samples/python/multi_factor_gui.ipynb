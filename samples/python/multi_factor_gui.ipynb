{
 "cells": [
  {
   "cell_type": "markdown",
   "metadata": {},
   "source": [
    "### Introduction\n",
    "This notebook contains a simple GUI constructing using Jupyter Widgets intended to help with testing, demonstrate the functionality to non-technical users, and act as an example of using the Python API to technical users. It is not intended as a production usage GUI and the Python code behind the GUI is not of production quality and robustness.\n",
    "\n",
    "Each input tab of the GUI contains buttons to save/load inputs to/from CSV files in order to avoid repeatedly typing in the same data each time the GUI is launched. Some example of such persisted data can be found in the directory ./storage_gui_data in the same directory as this notebook.\n",
    "\n",
    "After installing the prerequisites listed below, simply run the single cell and the GUI will appear."
   ]
  },
  {
   "cell_type": "markdown",
   "metadata": {},
   "source": [
    "#### Prerequisites\n",
    "This notebook requires several packages installed:\n",
    "\n",
    "`\n",
    "pip install cmdty-storage\n",
    "pip install curves\n",
    "pip install ipysheet\n",
    "`\n",
    "\n",
    "If this notebook has been downloaded standalone, i.e. without downloading the whole storage repo,\n",
    "it requires the file [storage_gui.py](https://github.com/cmdty/storage/blob/master/samples/python/storage_gui.py) be in the same directory.\n"
   ]
  },
  {
   "cell_type": "code",
   "execution_count": 1,
   "metadata": {
    "scrolled": false
   },
   "outputs": [
    {
     "data": {
      "application/vnd.jupyter.widget-view+json": {
       "model_id": "b174831e52064ee8bebc8909f9bf6f53",
       "version_major": 2,
       "version_minor": 0
      },
      "text/plain": [
       "Tab(children=(VBox(children=(HBox(children=(Button(description='Load Valuation Data', style=ButtonStyle()), Bu…"
      ]
     },
     "metadata": {},
     "output_type": "display_data"
    },
    {
     "data": {
      "application/vnd.jupyter.widget-view+json": {
       "model_id": "fd297a61e84644cebe321213635012da",
       "version_major": 2,
       "version_minor": 0
      },
      "text/plain": [
       "HBox(children=(VBox(children=(Button(description='Calculate', style=ButtonStyle()), FloatProgress(value=0.0, m…"
      ]
     },
     "metadata": {},
     "output_type": "display_data"
    },
    {
     "data": {
      "application/vnd.jupyter.widget-view+json": {
       "model_id": "b6b30c131d104a96809ab0e839731f3d",
       "version_major": 2,
       "version_minor": 0
      },
      "text/plain": [
       "Tab(children=(HBox(children=(VBox(children=(Text(value='', description='Full Value', disabled=True), Text(valu…"
      ]
     },
     "metadata": {},
     "output_type": "display_data"
    }
   ],
   "source": [
    "%matplotlib inline\n",
    "import storage_gui as sg\n",
    "sg.display_gui()"
   ]
  }
 ],
 "metadata": {
  "kernelspec": {
   "display_name": "Python 3",
   "language": "python",
   "name": "python3"
  },
  "language_info": {
   "codemirror_mode": {
    "name": "ipython",
    "version": 3
   },
   "file_extension": ".py",
   "mimetype": "text/x-python",
   "name": "python",
   "nbconvert_exporter": "python",
   "pygments_lexer": "ipython3",
   "version": "3.7.1"
  }
 },
 "nbformat": 4,
 "nbformat_minor": 2
}
